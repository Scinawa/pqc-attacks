{
 "cells": [
  {
   "cell_type": "code",
   "execution_count": 1,
   "metadata": {},
   "outputs": [],
   "source": [
    "from attacks.arithmetic.vectors import Norm2\n",
    "from qiskit import QuantumCircuit, QuantumRegister, ClassicalRegister\n",
    "from attacks.arithmetic.operations import Compare\n",
    "from attacks.utils.quantum import encode_signed_int"
   ]
  },
  {
   "cell_type": "code",
   "execution_count": 8,
   "metadata": {},
   "outputs": [
    {
     "data": {
      "text/plain": [
       "<qiskit.circuit.instructionset.InstructionSet at 0x2931a9d50>"
      ]
     },
     "execution_count": 8,
     "metadata": {},
     "output_type": "execute_result"
    }
   ],
   "source": [
    "circ = Compare(5, geq=\">=\")\n",
    "qc = QuantumCircuit(circ.num_qubits)\n",
    "\n",
    "qc.append(encode_signed_int(6, 5), qc.qubits[0:5])\n",
    "qc.append(encode_signed_int(5, 5), qc.qubits[5:10])\n",
    "qc.append(circ, qc.qubits)"
   ]
  },
  {
   "cell_type": "code",
   "execution_count": 9,
   "metadata": {},
   "outputs": [
    {
     "data": {
      "text/plain": [
       "<qiskit.circuit.instructionset.InstructionSet at 0x2931a9120>"
      ]
     },
     "execution_count": 9,
     "metadata": {},
     "output_type": "execute_result"
    }
   ],
   "source": [
    "res = ClassicalRegister(1, \"result\")\n",
    "qc.add_register(res)\n",
    "qc.measure(qc.qubits[-1], res)"
   ]
  },
  {
   "cell_type": "code",
   "execution_count": 10,
   "metadata": {},
   "outputs": [
    {
     "name": "stdout",
     "output_type": "stream",
     "text": [
      "{'1': 1024}\n"
     ]
    }
   ],
   "source": [
    "from qiskit import execute\n",
    "from qiskit_aer import AerSimulator\n",
    "\n",
    "simulator = AerSimulator(method=\"matrix_product_state\")\n",
    "result = execute(qc, simulator, shots=1024).result().get_counts()\n",
    "\n",
    "print(result)"
   ]
  },
  {
   "cell_type": "code",
   "execution_count": null,
   "metadata": {},
   "outputs": [],
   "source": []
  },
  {
   "cell_type": "code",
   "execution_count": null,
   "metadata": {},
   "outputs": [],
   "source": []
  }
 ],
 "metadata": {
  "kernelspec": {
   "display_name": "pqc",
   "language": "python",
   "name": "python3"
  },
  "language_info": {
   "codemirror_mode": {
    "name": "ipython",
    "version": 3
   },
   "file_extension": ".py",
   "mimetype": "text/x-python",
   "name": "python",
   "nbconvert_exporter": "python",
   "pygments_lexer": "ipython3",
   "version": "3.11.3"
  },
  "orig_nbformat": 4
 },
 "nbformat": 4,
 "nbformat_minor": 2
}
